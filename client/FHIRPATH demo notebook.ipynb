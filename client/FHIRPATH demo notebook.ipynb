{
 "cells": [
  {
   "cell_type": "markdown",
   "id": "3ab22687-21cd-4ddc-a2c8-db2b56bdb23f",
   "metadata": {},
   "source": [
    "# FHIRPATH demo notebook"
   ]
  },
  {
   "cell_type": "markdown",
   "id": "62911aad-7c71-46a5-a110-4f1cb697ffd0",
   "metadata": {},
   "source": [
    "FHIRPath specification: https://hl7.org/fhir/fhirpath.html"
   ]
  },
  {
   "cell_type": "markdown",
   "id": "2ede879a-4c4a-46b3-b834-5cf17ee2e3b7",
   "metadata": {},
   "source": [
    "**Run this notebook in the cloud:**\n",
    "\n",
    "[![Binder](https://mybinder.org/badge_logo.svg)](https://mybinder.org/v2/gh/beda-software/au-core-aidbox/main?labpath=client%2FFHIRPATH+demo+notebook.ipynb)"
   ]
  },
  {
   "cell_type": "code",
   "execution_count": null,
   "id": "7ab660ab-b9d4-4e8c-ad1b-dedc6e115129",
   "metadata": {},
   "outputs": [],
   "source": [
    "from fhirpy import SyncFHIRClient\n",
    "from fhirpathpy import evaluate\n",
    "from pprint import pprint\n",
    "from  fhirpathpy.models import models"
   ]
  },
  {
   "cell_type": "code",
   "execution_count": null,
   "id": "9c057787-1ac5-4dd2-a105-adbd62a17329",
   "metadata": {},
   "outputs": [],
   "source": [
    "def fhirpath(resource, path):\n",
    "    return evaluate(resource, path, model=models['r4'])"
   ]
  },
  {
   "cell_type": "code",
   "execution_count": null,
   "id": "6b3eef0e-b5ba-405c-aaa4-ebe2fea8f54f",
   "metadata": {},
   "outputs": [],
   "source": [
    "SPARKED_BASE_URL = \"https://hl7auconnectathon.salessbx.smiledigitalhealth.com/fhir-request\"\n",
    "AIDBOX_BASE_URL = \"https://au-core.beda.software/fhir/\""
   ]
  },
  {
   "cell_type": "code",
   "execution_count": null,
   "id": "f003e1e9-377c-4486-ad50-c758c68d3dad",
   "metadata": {},
   "outputs": [],
   "source": [
    "client = SyncFHIRClient(AIDBOX_BASE_URL)"
   ]
  },
  {
   "cell_type": "code",
   "execution_count": null,
   "id": "df309972-2da7-421a-8ba1-89a3daac3e25",
   "metadata": {},
   "outputs": [],
   "source": [
    "patients = client.resources(\"Patient\").fetch_all()\n",
    "observations = client.resources(\"Observation\").fetch_all()"
   ]
  },
  {
   "cell_type": "markdown",
   "id": "80a9a67a-84f5-4ebc-8218-151b815f4d7d",
   "metadata": {},
   "source": [
    "## Patient"
   ]
  },
  {
   "cell_type": "code",
   "execution_count": null,
   "id": "c468a086-9848-4d19-8317-5a7249cf9732",
   "metadata": {},
   "outputs": [],
   "source": [
    "fhirpath(patients, \"\"\"Patient.name.given\"\"\")"
   ]
  },
  {
   "cell_type": "code",
   "execution_count": null,
   "id": "a686b306-59ee-42cb-82d4-e3ccdefdccdf",
   "metadata": {},
   "outputs": [],
   "source": [
    "fhirpath(patients, \"\"\"Patient.telecom.where(system='phone')\"\"\")"
   ]
  },
  {
   "cell_type": "code",
   "execution_count": null,
   "id": "9f937270-cbe7-419e-9d5e-99f58658905d",
   "metadata": {},
   "outputs": [],
   "source": [
    "fhirpath(patients, \"\"\"Patient.deceased.exists()\"\"\")"
   ]
  },
  {
   "cell_type": "code",
   "execution_count": null,
   "id": "7dd9c276-b855-421a-a105-bec595d679fe",
   "metadata": {},
   "outputs": [],
   "source": [
    "fhirpath(patients, \"\"\"Patient.count()\"\"\")"
   ]
  },
  {
   "cell_type": "code",
   "execution_count": null,
   "id": "2ca924bc-b607-453a-9a7c-8dac935e3d9c",
   "metadata": {},
   "outputs": [],
   "source": [
    "fhirpath(patients, \"\"\"Patient.where(identifier.value='6951449677').name\"\"\")"
   ]
  },
  {
   "cell_type": "markdown",
   "id": "8d3221ef-d99e-48c6-b40c-43eef3b5832e",
   "metadata": {},
   "source": [
    "## Observation"
   ]
  },
  {
   "cell_type": "code",
   "execution_count": null,
   "id": "0cc6be1c-ad6f-40d1-afde-72bf7c2b7dc3",
   "metadata": {},
   "outputs": [],
   "source": [
    "fhirpath(observations, \"\"\"Observation.count()\"\"\")"
   ]
  },
  {
   "cell_type": "code",
   "execution_count": null,
   "id": "2062e9c2-88d4-4ce3-8143-cb2151d9a3b9",
   "metadata": {},
   "outputs": [],
   "source": [
    "fhirpath(observations, \"\"\"Observation.value\"\"\")"
   ]
  },
  {
   "cell_type": "code",
   "execution_count": null,
   "id": "1890f8b7-f30d-45a4-8c1f-509f57c3d06c",
   "metadata": {},
   "outputs": [],
   "source": [
    "alcohol_status_code = \"363905002\"\n",
    "fhirpath(observations, f\"\"\"Observation.where($this.code.coding.code='{alcohol_status_code}').value\"\"\")"
   ]
  },
  {
   "cell_type": "code",
   "execution_count": null,
   "id": "e94f9bb7-d88a-485d-954f-4acc583db751",
   "metadata": {},
   "outputs": [],
   "source": [
    "fhirpath(observations, f\"\"\"Observation.where(code.coding.where(system='http://loinc.org').code='8302-2').value\"\"\")"
   ]
  },
  {
   "cell_type": "code",
   "execution_count": null,
   "id": "4df19f61-c7af-4eff-9966-1f728edf320a",
   "metadata": {},
   "outputs": [],
   "source": [
    "fhirpath(observations, f\"\"\"Observation.where(code.coding.code contains '8302-2').value\"\"\")"
   ]
  }
 ],
 "metadata": {
  "kernelspec": {
   "display_name": "Python 3 (ipykernel)",
   "language": "python",
   "name": "python3"
  },
  "language_info": {
   "codemirror_mode": {
    "name": "ipython",
    "version": 3
   },
   "file_extension": ".py",
   "mimetype": "text/x-python",
   "name": "python",
   "nbconvert_exporter": "python",
   "pygments_lexer": "ipython3",
   "version": "3.11.5"
  }
 },
 "nbformat": 4,
 "nbformat_minor": 5
}
