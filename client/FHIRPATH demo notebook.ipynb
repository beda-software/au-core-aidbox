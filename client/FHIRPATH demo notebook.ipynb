{
 "cells": [
  {
   "cell_type": "markdown",
   "id": "3ab22687-21cd-4ddc-a2c8-db2b56bdb23f",
   "metadata": {},
   "source": [
    "# FHIRPATH demo notebook"
   ]
  },
  {
   "cell_type": "code",
   "execution_count": null,
   "id": "7ab660ab-b9d4-4e8c-ad1b-dedc6e115129",
   "metadata": {},
   "outputs": [],
   "source": [
    "from fhirpy import SyncFHIRClient\n",
    "from fhirpathpy import evaluate as fhirpath\n",
    "from pprint import pprint"
   ]
  },
  {
   "cell_type": "code",
   "execution_count": null,
   "id": "6b3eef0e-b5ba-405c-aaa4-ebe2fea8f54f",
   "metadata": {},
   "outputs": [],
   "source": [
    "SPARKED_BASE_URL = \"https://hl7auconnectathon.salessbx.smiledigitalhealth.com/fhir-request\"\n",
    "AIDBOX_BASE_URL = \"https://au-core.beda.software/fhir/\""
   ]
  },
  {
   "cell_type": "code",
   "execution_count": null,
   "id": "f003e1e9-377c-4486-ad50-c758c68d3dad",
   "metadata": {},
   "outputs": [],
   "source": [
    "client = SyncFHIRClient(AIDBOX_BASE_URL)"
   ]
  },
  {
   "cell_type": "code",
   "execution_count": null,
   "id": "df309972-2da7-421a-8ba1-89a3daac3e25",
   "metadata": {},
   "outputs": [],
   "source": [
    "patients = client.resources(\"Patient\").fetch_all()\n",
    "observations = client.resources(\"Observation\").fetch_all()"
   ]
  },
  {
   "cell_type": "markdown",
   "id": "80a9a67a-84f5-4ebc-8218-151b815f4d7d",
   "metadata": {},
   "source": [
    "## Data manipulation"
   ]
  },
  {
   "cell_type": "code",
   "execution_count": null,
   "id": "c468a086-9848-4d19-8317-5a7249cf9732",
   "metadata": {},
   "outputs": [],
   "source": [
    "fhirpath(patients, \"\"\"Patient.name.given\"\"\")"
   ]
  },
  {
   "cell_type": "code",
   "execution_count": null,
   "id": "97ef4331-02bc-4289-b296-03728fbd3c8e",
   "metadata": {},
   "outputs": [],
   "source": [
    "fhirpath(patients, \"\"\"Patient.name.family.first()\"\"\")"
   ]
  },
  {
   "cell_type": "code",
   "execution_count": null,
   "id": "26980264-9904-4f2b-9a4d-04f64bbc8d04",
   "metadata": {},
   "outputs": [],
   "source": [
    "fhirpath(patients, \"\"\"Patient.name.family.last()\"\"\")"
   ]
  },
  {
   "cell_type": "code",
   "execution_count": null,
   "id": "4f945672-6f58-4795-ab76-8c79c805c5e3",
   "metadata": {},
   "outputs": [],
   "source": [
    "fhirpath(patients, \"\"\"Patient.name.family.take(2)\"\"\")"
   ]
  },
  {
   "cell_type": "code",
   "execution_count": null,
   "id": "a85ebe2a-31be-4525-881b-8cf4247e65db",
   "metadata": {},
   "outputs": [],
   "source": [
    "fhirpath(patients, \"\"\"Patient.name.family.skip(5)\"\"\")"
   ]
  },
  {
   "cell_type": "code",
   "execution_count": null,
   "id": "a686b306-59ee-42cb-82d4-e3ccdefdccdf",
   "metadata": {},
   "outputs": [],
   "source": [
    "fhirpath(patients, \"\"\"Patient.telecom.where(system='phone')\"\"\")"
   ]
  },
  {
   "cell_type": "code",
   "execution_count": null,
   "id": "9f937270-cbe7-419e-9d5e-99f58658905d",
   "metadata": {},
   "outputs": [],
   "source": [
    "fhirpath(patients, \"\"\"Patient.deceased.exists()\"\"\")"
   ]
  },
  {
   "cell_type": "code",
   "execution_count": null,
   "id": "7dd9c276-b855-421a-a105-bec595d679fe",
   "metadata": {},
   "outputs": [],
   "source": [
    "fhirpath(patients, \"\"\"Patient.count()\"\"\")"
   ]
  },
  {
   "cell_type": "code",
   "execution_count": null,
   "id": "2ca924bc-b607-453a-9a7c-8dac935e3d9c",
   "metadata": {},
   "outputs": [],
   "source": [
    "fhirpath(patients, \"\"\"Patient.identifier[0]\"\"\")"
   ]
  },
  {
   "cell_type": "markdown",
   "id": "97fae712-a235-4451-9543-839d9094b3a5",
   "metadata": {},
   "source": [
    "## Datetime functions"
   ]
  },
  {
   "cell_type": "code",
   "execution_count": null,
   "id": "e334334e-e698-4a13-a329-5eca455c7c90",
   "metadata": {},
   "outputs": [],
   "source": [
    "fhirpath(patients, \"\"\"now()\"\"\")"
   ]
  },
  {
   "cell_type": "code",
   "execution_count": null,
   "id": "8b6bad8a-92d0-48de-ac6e-25bac4aebf74",
   "metadata": {},
   "outputs": [],
   "source": [
    "fhirpath(patients, \"\"\"today()\"\"\")"
   ]
  },
  {
   "cell_type": "code",
   "execution_count": null,
   "id": "8c0a2878-f660-45a0-86d0-71776ecf0067",
   "metadata": {},
   "outputs": [],
   "source": [
    "fhirpath(patients, \"\"\"timeOfDay()\"\"\")"
   ]
  },
  {
   "cell_type": "markdown",
   "id": "32997352-db0e-46e0-8716-fd2dd1592348",
   "metadata": {},
   "source": [
    "## Type casting"
   ]
  },
  {
   "cell_type": "code",
   "execution_count": null,
   "id": "7c0c8410-c7a7-4b3c-86f3-2fa1bddc15df",
   "metadata": {},
   "outputs": [],
   "source": [
    "fhirpath(observations, \"\"\"Observation.valueQuantity.value.first().toString()\"\"\")"
   ]
  },
  {
   "cell_type": "code",
   "execution_count": null,
   "id": "f2ab9e5c-d81c-4b5f-a87a-e3d226a3e786",
   "metadata": {},
   "outputs": [],
   "source": [
    "fhirpath(observations, \"\"\"Observation.valueQuantity.value.last().toDecimal()\"\"\")"
   ]
  },
  {
   "cell_type": "code",
   "execution_count": null,
   "id": "ec90c98e-7bef-4bdf-bc0f-60140f8c926f",
   "metadata": {},
   "outputs": [],
   "source": [
    "fhirpath(observations, \"\"\"Observation.valueQuantity.value.last().toInteger()\"\"\")"
   ]
  },
  {
   "cell_type": "markdown",
   "id": "9815d0b0-02b3-4577-8e6b-0ca9ef2d1299",
   "metadata": {},
   "source": [
    "## Basic arithmetic operations"
   ]
  },
  {
   "cell_type": "code",
   "execution_count": null,
   "id": "246ca356-746e-4a31-a209-2dacb92b87ed",
   "metadata": {},
   "outputs": [],
   "source": [
    "fhirpath(observations, \"\"\"Observation.valueQuantity.value.first() + Observation.valueQuantity.value.last()\"\"\")"
   ]
  },
  {
   "cell_type": "code",
   "execution_count": null,
   "id": "7e0a80ce-df6d-44c9-8006-d249df0f48d6",
   "metadata": {},
   "outputs": [],
   "source": [
    "fhirpath(observations, \"\"\"Observation.valueQuantity.value.first() - Observation.valueQuantity.value.last()\"\"\")"
   ]
  },
  {
   "cell_type": "code",
   "execution_count": null,
   "id": "a4cf70d8-11b6-4674-b7a2-abd79b6bfeca",
   "metadata": {},
   "outputs": [],
   "source": [
    "fhirpath(observations, \"\"\"Observation.valueQuantity.value.first() * Observation.valueQuantity.value.last()\"\"\")"
   ]
  },
  {
   "cell_type": "code",
   "execution_count": null,
   "id": "63c9f5ae-9afb-44a0-b63a-f07bc7c3a3f2",
   "metadata": {},
   "outputs": [],
   "source": [
    "fhirpath(observations, \"\"\"Observation.valueQuantity.value.first() / Observation.valueQuantity.value.last()\"\"\")"
   ]
  },
  {
   "cell_type": "markdown",
   "id": "54ce2b2e-66f6-431e-aaa5-a15e6f7d1b08",
   "metadata": {},
   "source": [
    "## Comparison operators"
   ]
  },
  {
   "cell_type": "code",
   "execution_count": null,
   "id": "8dc435ca-a929-459b-a535-9d3fdc2400a7",
   "metadata": {},
   "outputs": [],
   "source": [
    "fhirpath(observations, \"\"\"Observation.valueQuantity.value.first() = Observation.valueQuantity.value.last()\"\"\")"
   ]
  },
  {
   "cell_type": "code",
   "execution_count": null,
   "id": "16a8c825-a84b-4c9c-b669-7e62f6d07e21",
   "metadata": {},
   "outputs": [],
   "source": [
    "fhirpath(observations, \"\"\"Observation.valueQuantity.value.first() != Observation.valueQuantity.value.last()\"\"\")"
   ]
  },
  {
   "cell_type": "code",
   "execution_count": null,
   "id": "8a25f2a5-4554-45e6-81a8-1412a71a73f3",
   "metadata": {},
   "outputs": [],
   "source": [
    "fhirpath(observations, \"\"\"Observation.valueQuantity.value.first() ~ Observation.valueQuantity.value.last()\"\"\")"
   ]
  },
  {
   "cell_type": "code",
   "execution_count": null,
   "id": "cbc6d916-6d28-4dbc-a69e-1e837febafdd",
   "metadata": {},
   "outputs": [],
   "source": [
    "fhirpath(observations, \"\"\"Observation.valueQuantity.value.first() !~ Observation.valueQuantity.value.last()\"\"\")"
   ]
  },
  {
   "cell_type": "code",
   "execution_count": null,
   "id": "dee8621e-2374-487e-906b-a6e9d4652c7a",
   "metadata": {},
   "outputs": [],
   "source": [
    "fhirpath(observations, \"\"\"Observation.valueQuantity.value.first() > Observation.valueQuantity.value.last()\"\"\")"
   ]
  },
  {
   "cell_type": "code",
   "execution_count": null,
   "id": "bd75534f-2d2b-4c2a-9d80-98d80e0ffe93",
   "metadata": {},
   "outputs": [],
   "source": [
    "fhirpath(observations, \"\"\"Observation.valueQuantity.value.first() < Observation.valueQuantity.value.last()\"\"\")"
   ]
  },
  {
   "cell_type": "code",
   "execution_count": null,
   "id": "6b88ad8f-06f7-43dc-8556-183deb6fb375",
   "metadata": {},
   "outputs": [],
   "source": [
    "fhirpath(observations, \"\"\"Observation.valueQuantity.value.first() <= Observation.valueQuantity.value.last()\"\"\")"
   ]
  },
  {
   "cell_type": "code",
   "execution_count": null,
   "id": "2fe508a6-1a37-4421-9825-0504ae042ca8",
   "metadata": {},
   "outputs": [],
   "source": [
    "fhirpath(observations, \"\"\"Observation.valueQuantity.value.first() >= Observation.valueQuantity.value.last()\"\"\")"
   ]
  }
 ],
 "metadata": {
  "kernelspec": {
   "display_name": "Python 3 (ipykernel)",
   "language": "python",
   "name": "python3"
  },
  "language_info": {
   "codemirror_mode": {
    "name": "ipython",
    "version": 3
   },
   "file_extension": ".py",
   "mimetype": "text/x-python",
   "name": "python",
   "nbconvert_exporter": "python",
   "pygments_lexer": "ipython3",
   "version": "3.11.6"
  }
 },
 "nbformat": 4,
 "nbformat_minor": 5
}
