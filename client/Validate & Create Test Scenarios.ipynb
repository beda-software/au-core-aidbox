{
 "cells": [
  {
   "cell_type": "markdown",
   "id": "e3dc966e-1ce7-470d-92d2-64db23dc0291",
   "metadata": {},
   "source": [
    "# Validate & Create Test Scenarios"
   ]
  },
  {
   "cell_type": "markdown",
   "id": "8d90a4a6-2bae-458e-b574-8ad829e879a0",
   "metadata": {},
   "source": [
    "**Source:** https://confluence.hl7.org/pages/viewpage.action?pageId=204276132"
   ]
  },
  {
   "cell_type": "markdown",
   "id": "dbd68876-5287-437d-99ea-bd89dd0808fd",
   "metadata": {},
   "source": [
    "**Run this notebook in the cloud:**\n",
    "\n",
    "[![Binder](https://mybinder.org/badge_logo.svg)](https://mybinder.org/v2/gh/beda-software/au-core-aidbox/main?labpath=client%2FValidate+%26+Create+Test+Scenarios.ipynb)"
   ]
  },
  {
   "cell_type": "code",
   "execution_count": null,
   "id": "598a9631-a366-4e00-96b6-c20c8a49c1d0",
   "metadata": {},
   "outputs": [],
   "source": [
    "from fhirpy import SyncFHIRClient\n",
    "from pprint import pprint\n",
    "from fhirpy.base.exceptions import OperationOutcome\n",
    "import uuid\n",
    "import copy\n",
    "import json"
   ]
  },
  {
   "cell_type": "code",
   "execution_count": null,
   "id": "1ce870ec-3607-423e-b937-cd0efa6c09c6",
   "metadata": {},
   "outputs": [],
   "source": [
    "SPARKED_BASE_URL = \"https://hl7auconnectathon.salessbx.smiledigitalhealth.com/fhir-request\"\n",
    "AIDBOX_BASE_URL = \"https://au-core.beda.software/fhir/\""
   ]
  },
  {
   "cell_type": "code",
   "execution_count": null,
   "id": "919202c1-8230-4b2c-9ec9-f6750adff2cc",
   "metadata": {},
   "outputs": [],
   "source": [
    "client = SyncFHIRClient(AIDBOX_BASE_URL)"
   ]
  },
  {
   "cell_type": "code",
   "execution_count": null,
   "id": "fed96734-bcfe-442c-a95b-5a4e0163fe6d",
   "metadata": {},
   "outputs": [],
   "source": [
    "FHIR_SCHEMA_VALIDATOR = \"https://fhir-validator.aidbox.app\"\n",
    "validator = SyncFHIRClient(\"https://fhir-validator.aidbox.app\")\n",
    "\n",
    "def validate_resource(resource):\n",
    "    return pprint(validator.execute(\"rpc\", data={\n",
    "        \"method\":\"fhirpathweb/validate-resource\",\n",
    "        \"params\":{\n",
    "            \"resource\": json.dumps(resource),\n",
    "            \"fhir-version\":\"4.0.1\",\n",
    "            \"format\":\"json\",\n",
    "            \"disabled-features\":{}}})[\"result\"])\n",
    "\n",
    "def remove_attributes(resource_data, attributes_list):\n",
    "    d = copy.deepcopy(resource_data)\n",
    "    for attribute in attributes_list:\n",
    "        d.pop(attribute, None)\n",
    "\n",
    "    return d"
   ]
  },
  {
   "cell_type": "markdown",
   "id": "17514a9d-ba62-4b2c-a1b9-17f30a934380",
   "metadata": {},
   "source": [
    "## 1. Patient\n",
    "### 1.1 $validate Patient\n",
    "**Action:**  Validate the content of a FHIR formatted Patient resource"
   ]
  },
  {
   "cell_type": "code",
   "execution_count": null,
   "id": "dc42f166-4c90-44f4-a04b-42aca52fb127",
   "metadata": {},
   "outputs": [],
   "source": [
    "valid_patient_data = {\n",
    " \"meta\": {\n",
    "  \"profile\": [\n",
    "   \"http://hl7.org.au/fhir/core/StructureDefinition/au-core-patient\"\n",
    "  ],\n",
    " },\n",
    " \"name\": [\n",
    "  {\n",
    "   \"given\": [\n",
    "    \"Valid\"\n",
    "   ],\n",
    "   \"family\": \"Patient\",\n",
    "  }\n",
    " ],\n",
    " \"birthDate\": \"1999-12-19\",\n",
    " \"resourceType\": \"Patient\",\n",
    " \"id\": str(uuid.uuid4()),\n",
    " \"identifier\": [\n",
    "  {\n",
    "   \"type\": {\n",
    "    \"text\": \"Medicare Number\",\n",
    "    \"coding\": [\n",
    "     {\n",
    "      \"code\": \"MC\",\n",
    "      \"system\": \"http://terminology.hl7.org/CodeSystem/v2-0203\",\n",
    "      \"display\": \"Patient's Medicare Number\"\n",
    "     }\n",
    "    ]\n",
    "   },\n",
    "   \"value\": \"1234567892\",\n",
    "   \"period\": {\n",
    "    \"end\": \"2024-05\"\n",
    "   },\n",
    "   \"system\": \"http://ns.electronichealth.net.au/id/medicare-number\"\n",
    "  }\n",
    " ],\n",
    " \"gender\": \"female\",\n",
    "}\n",
    "\n",
    "invalid_patient_data = remove_attributes(valid_patient_data, [\"identifier\", \"birthDate\"])"
   ]
  },
  {
   "cell_type": "code",
   "execution_count": null,
   "id": "57de5977-9774-4757-8fdf-74aeafd35dd0",
   "metadata": {},
   "outputs": [],
   "source": [
    "validate_resource(valid_patient_data)"
   ]
  },
  {
   "cell_type": "markdown",
   "id": "f5d908bb-8768-4064-978c-3f42f0e0bb3d",
   "metadata": {},
   "source": [
    "### 1.2 create Patient\n",
    "**Action:** FHIR client creates a new patient and save to FHIR server."
   ]
  },
  {
   "cell_type": "code",
   "execution_count": null,
   "id": "e3f993d2-1be2-4d29-846a-2e817848bd16",
   "metadata": {},
   "outputs": [],
   "source": [
    "patient = client.resource(\"Patient\", **valid_patient_data)\n",
    "patient.create()"
   ]
  },
  {
   "cell_type": "code",
   "execution_count": null,
   "id": "66d8440c-22e7-43b8-a8fd-b0252423d0c3",
   "metadata": {},
   "outputs": [],
   "source": [
    "example_patient = client.reference('Patient', valid_patient_data[\"id\"]).to_resource()\n",
    "pprint(example_patient.serialize())"
   ]
  },
  {
   "cell_type": "markdown",
   "id": "1a144c15-4523-4728-8a3c-a25425ff9f17",
   "metadata": {},
   "source": [
    "## 2. Condition\n",
    "### 2.1 $validate Condition\n",
    "**Action:**  Validate the content of a FHIR formatted Condition resource"
   ]
  },
  {
   "cell_type": "code",
   "execution_count": null,
   "id": "e300cc99-b608-4f11-82a1-98e1dd4cb8ed",
   "metadata": {},
   "outputs": [],
   "source": [
    "valid_condition_data = {\n",
    " \"onset\": {\n",
    "  \"dateTime\": \"2017-03-30\"\n",
    " },\n",
    " \"category\": [\n",
    "  {\n",
    "   \"coding\": [\n",
    "    {\n",
    "     \"code\": \"encounter-diagnosis\",\n",
    "     \"system\": \"http://terminology.hl7.org/CodeSystem/condition-category\",\n",
    "     \"display\": \"Encounter Diagnosis\"\n",
    "    }\n",
    "   ]\n",
    "  }\n",
    " ],\n",
    " \"clinicalStatus\": {\n",
    "  \"coding\": [\n",
    "   {\n",
    "    \"code\": \"active\",\n",
    "    \"system\": \"http://terminology.hl7.org/CodeSystem/condition-clinical\",\n",
    "    \"display\": \"Active\"\n",
    "   }\n",
    "  ]\n",
    " },\n",
    " \"meta\": {\n",
    "  \"profile\": [\n",
    "   \"http://hl7.org.au/fhir/core/StructureDefinition/au-core-condition\"\n",
    "  ],\n",
    " },\n",
    " \"encounter\": {\n",
    "  \"id\": \"nailwound\",\n",
    "  \"resourceType\": \"Encounter\"\n",
    " },\n",
    " \"resourceType\": \"Condition\",\n",
    " \"id\": str(uuid.uuid4()),\n",
    " \"recorder\": {\n",
    "  \"id\": \"bobrester-bob-gp\",\n",
    "  \"resourceType\": \"PractitionerRole\"\n",
    " },\n",
    " \"code\": {\n",
    "  \"coding\": [\n",
    "   {\n",
    "    \"code\": \"283680004\",\n",
    "    \"system\": \"http://snomed.info/sct\",\n",
    "    \"display\": \"Nail wound of sole of foot\"\n",
    "   }\n",
    "  ]\n",
    " },\n",
    " \"bodySite\": [\n",
    "  {\n",
    "   \"coding\": [\n",
    "    {\n",
    "     \"code\": \"57999000\",\n",
    "     \"system\": \"http://snomed.info/sct\",\n",
    "     \"display\": \"Structure of sole of foot\"\n",
    "    }\n",
    "   ]\n",
    "  }\n",
    " ],\n",
    " \"verificationStatus\": {\n",
    "  \"coding\": [\n",
    "   {\n",
    "    \"code\": \"confirmed\",\n",
    "    \"system\": \"http://terminology.hl7.org/CodeSystem/condition-ver-status\",\n",
    "    \"display\": \"Confirmed\"\n",
    "   }\n",
    "  ]\n",
    " },\n",
    " \"subject\": {\n",
    "  \"id\": \"wang-li\",\n",
    "  \"resourceType\": \"Patient\"\n",
    " },\n",
    "}\n",
    "\n",
    "invalid_condition_data = remove_attributes(valid_condition_data, [\"category\", \"code\"])"
   ]
  },
  {
   "cell_type": "code",
   "execution_count": null,
   "id": "e3c96438-1f29-41d8-a24b-c62ea6ac4f49",
   "metadata": {},
   "outputs": [],
   "source": [
    "validate_resource(valid_condition_data)"
   ]
  },
  {
   "cell_type": "markdown",
   "id": "383efd45-9011-497d-86d8-c93c89c75ce1",
   "metadata": {},
   "source": [
    "### 2.2 create Condition\n",
    "**Action:** FHIR client creates a new Condition instance for a patient and save to FHIR server."
   ]
  },
  {
   "cell_type": "code",
   "execution_count": null,
   "id": "6fc3e7f7-e769-44b9-b8c1-e1bc3b7c2e6c",
   "metadata": {},
   "outputs": [],
   "source": [
    "condition = client.resource(\"Condition\", **valid_condition_data)\n",
    "condition.create()"
   ]
  },
  {
   "cell_type": "code",
   "execution_count": null,
   "id": "12222a4b-88b8-433a-b920-b979160f2d0a",
   "metadata": {},
   "outputs": [],
   "source": [
    "example_condition = client.reference('Condition', valid_condition_data[\"id\"]).to_resource()\n",
    "pprint(example_condition.serialize())"
   ]
  },
  {
   "cell_type": "markdown",
   "id": "2041ccb4-83fd-47bd-9a6c-b68ce78670ed",
   "metadata": {},
   "source": [
    "## 3. AllergyIntolerance\n",
    "### 3.1 $validate AllergyIntolerance\n",
    "**Action:**  Validate the content of a FHIR formatted resource"
   ]
  },
  {
   "cell_type": "code",
   "execution_count": null,
   "id": "892fe776-0d65-4c55-8165-4f20f6f688cc",
   "metadata": {},
   "outputs": [],
   "source": [
    "valid_allergy_data = {\n",
    " \"patient\": {\n",
    "  \"id\": \"dan-harry\",\n",
    "  \"resourceType\": \"Patient\"\n",
    " },\n",
    " \"onset\": {\n",
    "  \"dateTime\": \"2023-02-12\"\n",
    " },\n",
    " \"category\": [\n",
    "  \"food\"\n",
    " ],\n",
    " \"clinicalStatus\": {\n",
    "  \"text\": \"Active\",\n",
    "  \"coding\": [\n",
    "   {\n",
    "    \"code\": \"active\",\n",
    "    \"system\": \"http://terminology.hl7.org/CodeSystem/allergyintolerance-clinical\",\n",
    "    \"display\": \"Active\"\n",
    "   }\n",
    "  ]\n",
    " },\n",
    " \"meta\": {\n",
    "  \"profile\": [\n",
    "   \"http://hl7.org.au/fhir/core/StructureDefinition/au-core-allergyintolerance\"\n",
    "  ],\n",
    " },\n",
    " \"type\": \"allergy\",\n",
    " \"resourceType\": \"AllergyIntolerance\",\n",
    " \"asserter\": {\n",
    "  \"id\": \"bobrester-bob-gp\",\n",
    "  \"resourceType\": \"PractitionerRole\"\n",
    " },\n",
    " \"recordedDate\": \"2023-04-24\",\n",
    " \"id\": str(uuid.uuid4()),\n",
    " \"recorder\": {\n",
    "  \"id\": \"bobrester-bob-gp\",\n",
    "  \"resourceType\": \"PractitionerRole\"\n",
    " },\n",
    " \"code\": {\n",
    "  \"text\": \"Egg\",\n",
    "  \"coding\": [\n",
    "   {\n",
    "    \"code\": \"102263004\",\n",
    "    \"system\": \"http://snomed.info/sct\",\n",
    "    \"display\": \"Eggs (edible)\"\n",
    "   }\n",
    "  ]\n",
    " },\n",
    " \"verificationStatus\": {\n",
    "  \"text\": \"Confirmed\",\n",
    "  \"coding\": [\n",
    "   {\n",
    "    \"code\": \"confirmed\",\n",
    "    \"system\": \"http://terminology.hl7.org/CodeSystem/allergyintolerance-verification\",\n",
    "    \"display\": \"Confirmed\"\n",
    "   }\n",
    "  ]\n",
    " },\n",
    " \"reaction\": [\n",
    "  {\n",
    "   \"substance\": {\n",
    "    \"text\": \"Egg\",\n",
    "    \"coding\": [\n",
    "     {\n",
    "      \"code\": \"102263004\",\n",
    "      \"system\": \"http://snomed.info/sct\",\n",
    "      \"display\": \"Eggs (edible)\"\n",
    "     }\n",
    "    ]\n",
    "   },\n",
    "   \"manifestation\": [\n",
    "    {\n",
    "     \"text\": \"Stomach cramps\",\n",
    "     \"coding\": [\n",
    "      {\n",
    "       \"code\": \"51197009\",\n",
    "       \"system\": \"http://snomed.info/sct\",\n",
    "       \"display\": \"Stomach cramps\"\n",
    "      }\n",
    "     ]\n",
    "    },\n",
    "    {\n",
    "     \"text\": \"Nausea and vomiting\",\n",
    "     \"coding\": [\n",
    "      {\n",
    "       \"code\": \"16932000\",\n",
    "       \"system\": \"http://snomed.info/sct\",\n",
    "       \"display\": \"Nausea and vomiting\"\n",
    "      }\n",
    "     ]\n",
    "    }\n",
    "   ]\n",
    "  }\n",
    " ],\n",
    "}\n",
    "\n",
    "invalid_allergy_data = remove_attributes(valid_allergy_data, [\"code\"])"
   ]
  },
  {
   "cell_type": "code",
   "execution_count": null,
   "id": "72987af3-2757-4630-81e8-b7cf0fb6bf5b",
   "metadata": {},
   "outputs": [],
   "source": [
    "validate_resource(valid_allergy_data)"
   ]
  },
  {
   "cell_type": "markdown",
   "id": "816a851d-d13c-436e-a210-d2af92feafb2",
   "metadata": {},
   "source": [
    "### 3.2 create AllergyIntolerance\n",
    "**Action:** FHIR client creates a new AllergyIntolerance instance for a patient and save to FHIR server."
   ]
  },
  {
   "cell_type": "code",
   "execution_count": null,
   "id": "2343ebf5-4417-49e2-a705-a10d625b8fc5",
   "metadata": {},
   "outputs": [],
   "source": [
    "allergy = client.resource(\"AllergyIntolerance\", **valid_allergy_data)\n",
    "allergy.create()"
   ]
  },
  {
   "cell_type": "code",
   "execution_count": null,
   "id": "9df91f66-e5f3-4b0b-8f18-b1c63a6b4441",
   "metadata": {},
   "outputs": [],
   "source": [
    "example_allergy = client.reference('AllergyIntolerance', valid_allergy_data[\"id\"]).to_resource()\n",
    "pprint(example_allergy.serialize())"
   ]
  }
 ],
 "metadata": {
  "kernelspec": {
   "display_name": "Python 3 (ipykernel)",
   "language": "python",
   "name": "python3"
  },
  "language_info": {
   "codemirror_mode": {
    "name": "ipython",
    "version": 3
   },
   "file_extension": ".py",
   "mimetype": "text/x-python",
   "name": "python",
   "nbconvert_exporter": "python",
   "pygments_lexer": "ipython3",
   "version": "3.11.5"
  }
 },
 "nbformat": 4,
 "nbformat_minor": 5
}
