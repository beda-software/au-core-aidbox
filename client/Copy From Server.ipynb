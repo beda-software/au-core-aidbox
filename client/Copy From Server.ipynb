{
 "cells": [
  {
   "cell_type": "code",
   "execution_count": null,
   "id": "43e12dca-2544-4674-ad69-6789c2b6bdcc",
   "metadata": {},
   "outputs": [],
   "source": [
    "from fhirpy import SyncFHIRClient\n",
    "from fhirpy.base.exceptions import OperationOutcome\n",
    "from collections import defaultdict"
   ]
  },
  {
   "cell_type": "code",
   "execution_count": null,
   "id": "7f79f578-4bb2-4bdc-94f6-4839ae45b51a",
   "metadata": {},
   "outputs": [],
   "source": [
    "# SOURCE_BASE_URL = \"https://hl7auconnectathon.salessbx.smiledigitalhealth.com/fhir-request\"\n",
    "SOURCE_BASE_URL = \"https://au-core.beda.software/fhir/\"\n",
    "DESTINATION_BASE_URL = \"http://localhost:8080/fhir/\""
   ]
  },
  {
   "cell_type": "code",
   "execution_count": null,
   "id": "b4cee225-2e53-4956-aab6-db477524cb3f",
   "metadata": {},
   "outputs": [],
   "source": [
    "source = SyncFHIRClient(SOURCE_BASE_URL)\n",
    "destination = SyncFHIRClient(DESTINATION_BASE_URL)"
   ]
  },
  {
   "cell_type": "code",
   "execution_count": null,
   "id": "b983fa5e-f4d5-4b98-beaf-fbd8faa61086",
   "metadata": {},
   "outputs": [],
   "source": [
    "resources = defaultdict(list)\n",
    "patients =  source.resources(\"Patient\").fetch_all()\n",
    "print(len(patients))"
   ]
  },
  {
   "cell_type": "code",
   "execution_count": null,
   "id": "5c29483b-11bb-433a-b1a8-191326301c6f",
   "metadata": {},
   "outputs": [],
   "source": [
    "for patient in patients:\n",
    "    for entry in patient.execute(\"$everything\", method=\"GET\")[\"entry\"]:\n",
    "        resource = entry[\"resource\"]\n",
    "        resources[resource[\"resourceType\"]].append(resource)"
   ]
  },
  {
   "cell_type": "code",
   "execution_count": null,
   "id": "3ca42d9f-1b46-4f3f-97e3-2ce325c959ab",
   "metadata": {},
   "outputs": [],
   "source": [
    "resources.keys()"
   ]
  },
  {
   "cell_type": "code",
   "execution_count": null,
   "id": "44b8144f-b3f1-4129-9942-69055db3d350",
   "metadata": {},
   "outputs": [],
   "source": [
    "order = ['Organization', 'Location',  'Practitioner',  'PractitionerRole', 'Condition',\n",
    "         'Patient', 'Encounter', 'AllergyIntolerance', 'BodyStructure', \n",
    "         'Goal',  'Procedure', \n",
    "         'FamilyMemberHistory', 'Observation', 'CareTeam',\n",
    "         'CarePlan', 'Specimen', 'Composition', \n",
    "         'MedicationStatement', 'Medication', \n",
    "         'Coverage', 'MedicationAdministration', \n",
    "         'ServiceRequest', 'DiagnosticReport',\n",
    "         'DocumentReference', 'Immunization', 'RelatedPerson', \n",
    "         'MedicationDispense', 'MedicationRequest', 'List', \n",
    "         'Provenance', 'HealthcareService']\n",
    "\n",
    "for type in order:\n",
    "    for r in resources[type]:\n",
    "        try:\n",
    "            resource = destination.resource(type,**r)\n",
    "            resource.save()\n",
    "        except OperationOutcome as err:\n",
    "            print(resource, err)"
   ]
  }
 ],
 "metadata": {
  "kernelspec": {
   "display_name": "Python 3 (ipykernel)",
   "language": "python",
   "name": "python3"
  },
  "language_info": {
   "codemirror_mode": {
    "name": "ipython",
    "version": 3
   },
   "file_extension": ".py",
   "mimetype": "text/x-python",
   "name": "python",
   "nbconvert_exporter": "python",
   "pygments_lexer": "ipython3",
   "version": "3.11.5"
  }
 },
 "nbformat": 4,
 "nbformat_minor": 5
}
