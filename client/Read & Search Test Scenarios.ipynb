{
 "cells": [
  {
   "cell_type": "markdown",
   "id": "882164f7-7c59-4c06-a2bf-0aa33ad6aea3",
   "metadata": {},
   "source": [
    "# Read & Search Test Scenarios"
   ]
  },
  {
   "cell_type": "markdown",
   "id": "c2b223ea-4525-44fe-a7bc-1468c549acce",
   "metadata": {},
   "source": [
    "**Source:** https://confluence.hl7.org/pages/viewpage.action?pageId=203358353"
   ]
  },
  {
   "cell_type": "markdown",
   "id": "06e5b018-1fe9-4592-b320-bb3120c62088",
   "metadata": {},
   "source": [
    "**Run this notebook in the cloud:**\n",
    "\n",
    "[![Binder](https://mybinder.org/badge_logo.svg)](https://mybinder.org/v2/gh/projkov/au-core-aidbox.git/HEAD?labpath=client%2FRead+%26+Search+Test+Scenarios.ipynb)"
   ]
  },
  {
   "cell_type": "code",
   "execution_count": null,
   "id": "77127db2-e748-4886-ae01-49ef604e14f4",
   "metadata": {},
   "outputs": [],
   "source": [
    "from fhirpy import SyncFHIRClient\n",
    "from fhirpy.base.exceptions import OperationOutcome\n",
    "from collections import defaultdict\n",
    "from pprint import pprint"
   ]
  },
  {
   "cell_type": "code",
   "execution_count": null,
   "id": "af105705-0061-4783-862b-70345a776905",
   "metadata": {},
   "outputs": [],
   "source": [
    "SOURCE_BASE_URL = \"https://au-core.beda.software/fhir/\""
   ]
  },
  {
   "cell_type": "code",
   "execution_count": null,
   "id": "2cae58b2-2a7a-4897-b123-8cbb644e3404",
   "metadata": {},
   "outputs": [],
   "source": [
    "client = SyncFHIRClient(SOURCE_BASE_URL)"
   ]
  },
  {
   "cell_type": "markdown",
   "id": "75b6a6c4-9f06-479a-b962-819be2eafcf7",
   "metadata": {},
   "source": [
    "## 1 Patient\n",
    "### 1.1 read\n",
    "**Action:** FHIR client retrieves the patient resource with the Id\n",
    "\n",
    "**Precondition:** Patient has been created\n",
    "\n",
    "**Success Criteria:** Patient resource is displayed in interface (use browser to query FHIR server)\n",
    "\n",
    "**Retrieve you can try**"
   ]
  },
  {
   "cell_type": "code",
   "execution_count": null,
   "id": "5309f452-e561-483d-bab2-613b1dead6a9",
   "metadata": {},
   "outputs": [],
   "source": [
    "patient_1_1_1 = client.reference('Patient', 'wang-li').to_resource()"
   ]
  },
  {
   "cell_type": "code",
   "execution_count": null,
   "id": "baf7baff-74c1-4f14-9b32-69dfb0d31231",
   "metadata": {},
   "outputs": [],
   "source": [
    "pprint(patient_1_1_1.serialize())"
   ]
  },
  {
   "cell_type": "code",
   "execution_count": null,
   "id": "bae41447-d026-48fd-80ff-89dabf7d4383",
   "metadata": {},
   "outputs": [],
   "source": [
    "patient_1_1_2 = client.reference('Patient', 'italia-sofia').to_resource()"
   ]
  },
  {
   "cell_type": "code",
   "execution_count": null,
   "id": "3e22fbe7-eafc-4cd2-8ef5-d94a1b78c724",
   "metadata": {},
   "outputs": [],
   "source": [
    "pprint(patient_1_1_2.serialize())"
   ]
  },
  {
   "cell_type": "markdown",
   "id": "fe65c2b4-27a4-4256-82b1-13fccc16eb10",
   "metadata": {},
   "source": [
    "### 1.2 search: \\_id\n",
    "**Action:** FHIR client searches the FHIR server for patients with a given id\n",
    "\n",
    "**Precondition:** Patients with that id have been created\n",
    "\n",
    "**Success Criteria:** patients displayed in interface (use browser query to confirm)\n",
    "\n",
    "**Searches you can try** \n",
    "\n",
    "1. Find patient record using the _id parameter 'wang-li'\n",
    "2. Find patient record using the _id parameter 'italia-sofia'"
   ]
  },
  {
   "cell_type": "code",
   "execution_count": null,
   "id": "4960abfe-a860-4a52-bd3f-5b6b7588a577",
   "metadata": {},
   "outputs": [],
   "source": [
    "patient_1_2_1 = client.resources(\"Patient\").search(_id='wang-li').fetch_all()"
   ]
  },
  {
   "cell_type": "code",
   "execution_count": null,
   "id": "41559835-2c0a-4262-b946-b365f425a59c",
   "metadata": {},
   "outputs": [],
   "source": [
    "pprint(patient_1_2_1[0].serialize())"
   ]
  },
  {
   "cell_type": "code",
   "execution_count": null,
   "id": "18f457af",
   "metadata": {},
   "outputs": [],
   "source": [
    "patient_1_2_2 = client.resources(\"Patient\").search(_id='italia-sofia').fetch_all()"
   ]
  },
  {
   "cell_type": "code",
   "execution_count": null,
   "id": "b6e9e46d-c682-43ea-a109-43a137b975fa",
   "metadata": {},
   "outputs": [],
   "source": [
    "pprint(patient_1_2_2[0].serialize())"
   ]
  },
  {
   "cell_type": "markdown",
   "id": "57051207-5178-4a99-be16-38cb0a577021",
   "metadata": {},
   "source": [
    "### 1.3 search: identifier"
   ]
  },
  {
   "cell_type": "markdown",
   "id": "4d389550-66b6-460c-94ef-79b7bf2a948c",
   "metadata": {},
   "source": [
    "**Action:** FHIR client searches the FHIR server for patients with an identifier\n",
    "\n",
    "**Precondition:** Patient with specified identifier has been created\n",
    "\n",
    "**Success Criteria:** patients displayed in interface (use browser query to confirm)\n",
    "\n",
    "Bonus Point #1: Search for a patient on identifier using IHI.\n",
    "\n",
    "Bonus Point #2: Search for a patient on identifier using DVA number.\n",
    "\n",
    "**Searches you can try**\n",
    "\n",
    "1. Find patient record using the identifier parameter 'http://ns.electronichealth.net.au/id/hi/ihi/1.0|8003608833357361'\n",
    "2. Find patient record using the identifier parameter 'http://ns.electronichealth.net.au/id/dva|NBUR9080'\n",
    "3. Find patient record using the identifier parameter 'http://ns.electronichealth.net.au/id/medicare-number|1234567892'"
   ]
  },
  {
   "cell_type": "code",
   "execution_count": null,
   "id": "281e9d65-f4a6-4bc3-848e-d1aed72f900d",
   "metadata": {},
   "outputs": [],
   "source": [
    "identifier = 'http://ns.electronichealth.net.au/id/hi/ihi/1.0|8003608833357361'\n",
    "patient_1_3_1 = client.resources(\"Patient\").search(_identifier=identifier).fetch_all()"
   ]
  },
  {
   "cell_type": "code",
   "execution_count": null,
   "id": "7f82a453-9606-4263-aca0-eff463c6b787",
   "metadata": {},
   "outputs": [],
   "source": [
    "pprint(patient_1_3_1[0].serialize())"
   ]
  },
  {
   "cell_type": "code",
   "execution_count": null,
   "id": "2374b245-16e5-4598-8734-34242a6e816f",
   "metadata": {},
   "outputs": [],
   "source": [
    "identifier = 'http://ns.electronichealth.net.au/id/dva|NBUR9080'\n",
    "patient_1_3_2 = client.resources(\"Patient\").search(_identifier=identifier).fetch_all()"
   ]
  },
  {
   "cell_type": "code",
   "execution_count": null,
   "id": "c8cd90f9-c5d3-4136-98b6-7eb6a60592d6",
   "metadata": {},
   "outputs": [],
   "source": [
    "pprint(patient_1_3_2[0].serialize())"
   ]
  },
  {
   "cell_type": "code",
   "execution_count": null,
   "id": "17822d92-643b-47f7-860f-e56e7201744d",
   "metadata": {},
   "outputs": [],
   "source": [
    "identifier = 'http://ns.electronichealth.net.au/id/medicare-number|1234567892'\n",
    "patient_1_3_3 = client.resources(\"Patient\").search(_identifier=identifier).fetch_all()"
   ]
  },
  {
   "cell_type": "code",
   "execution_count": null,
   "id": "100c1410-2b36-452a-95ac-bc75c7605c8f",
   "metadata": {},
   "outputs": [],
   "source": [
    "pprint(patient_1_3_3[0].serialize())"
   ]
  },
  {
   "cell_type": "markdown",
   "id": "c7e14960-42a9-4f4b-a7bc-5d9e6dbe18da",
   "metadata": {},
   "source": [
    "### 1.4 search: birthdate+family\n",
    "**Action:** FHIR client searches the FHIR server for patients with specified family name and birthdate\n",
    "\n",
    "**Precondition:** Patients with specified family name and birthdate have been created\n",
    "\n",
    "**Success Criteria:** patients displayed in interface. (use browser query to confirm)\n",
    "\n",
    "**Searches you can try**\n",
    "\n",
    "1. Find patient records using combination of birthdate parameter '1999-12-19' and family name parameter 'smith'\n",
    "2. Find patient records using combination of birthdate parameter '1968-10-11' and and family name parameter 'Bennelong'"
   ]
  },
  {
   "cell_type": "code",
   "execution_count": null,
   "id": "947b161d-3681-48e1-b818-e1e9356d0b05",
   "metadata": {},
   "outputs": [],
   "source": [
    "patient_1_4_1 = client.resources(\"Patient\").search(birthdate='1999-12-19', family=\"smith\").fetch_all()"
   ]
  },
  {
   "cell_type": "code",
   "execution_count": null,
   "id": "f36ceca0-4ac6-444d-8464-ca4ab4bf5757",
   "metadata": {},
   "outputs": [],
   "source": [
    "pprint(patient_1_4_1[0].serialize())"
   ]
  },
  {
   "cell_type": "code",
   "execution_count": null,
   "id": "4f19827a",
   "metadata": {},
   "outputs": [],
   "source": [
    "patient_1_4_2 = client.resources(\"Patient\").search(birthdate='1968-10-11', family=\"Bennelong\").fetch_all()"
   ]
  },
  {
   "cell_type": "code",
   "execution_count": null,
   "id": "f135042f-57cb-4e3a-9f86-37ff1aaacd8f",
   "metadata": {},
   "outputs": [],
   "source": [
    "pprint(patient_1_4_2[0].serialize())"
   ]
  },
  {
   "cell_type": "markdown",
   "id": "80a4f97e-7e9a-41bc-9357-0d8cdb3529dc",
   "metadata": {},
   "source": [
    "### 1.5 search: birthdate+name\n",
    "\n",
    "**Action:** FHIR client searches the FHIR server for patients with a name that match any of the string fields in the HumanName, including family, give, prefix, suffix, suffix, and/or text and birthdate\n",
    "\n",
    "**Precondition:** Patients with the specified birthdate and name name have been created\n",
    "\n",
    "**Success Criteria:** patients displayed in interface. (use browser query to confirm)\n",
    "\n",
    "**Searches you can try**\n",
    "\n",
    "1. Find patient records using combination of birthdate parameter '1989-05-07' and name parameter 'Ms' \n",
    "2. Find patient records using combination of birthdate parameter '1939-08-2' and name parameter 'Dan' "
   ]
  },
  {
   "cell_type": "code",
   "execution_count": null,
   "id": "552c6649-0e04-4f9e-a096-2396dce3febe",
   "metadata": {},
   "outputs": [],
   "source": [
    "patient_1_5_1 = client.resources(\"Patient\").search(birthdate='1989-05-07', name=\"Ms\").fetch_all()"
   ]
  },
  {
   "cell_type": "code",
   "execution_count": null,
   "id": "36ea97a5-0c58-4d90-8285-4363a4781c06",
   "metadata": {},
   "outputs": [],
   "source": [
    "# pprint(patient_1_5_1[0].serialize()) TODO: fix this via correct demo data"
   ]
  },
  {
   "cell_type": "code",
   "execution_count": null,
   "id": "96d69a65-3bb7-4470-bc76-b9a21066bcff",
   "metadata": {},
   "outputs": [],
   "source": [
    "patient_1_5_2 = client.resources(\"Patient\").search(birthdate='1939-08-25', name=\"Dan\").fetch_all()"
   ]
  },
  {
   "cell_type": "code",
   "execution_count": null,
   "id": "958cd24e-222a-4a91-9d75-5f90fecb5957",
   "metadata": {},
   "outputs": [],
   "source": [
    "pprint(patient_1_5_2[0].serialize())"
   ]
  },
  {
   "cell_type": "markdown",
   "id": "11efbdbe-2181-444c-b53c-501c32e639dd",
   "metadata": {},
   "source": [
    "### 1.6 search: family \n",
    "**Action:** FHIR client searches the FHIR server for patients with a family name\n",
    "\n",
    "**Precondition:** Patients with that family name have been created\n",
    "\n",
    "**Success Criteria:** patients displayed in interface. (use browser query to confirm)\n",
    "\n",
    "Bonus Point #1: Search for a patient with a family name using the :exact modifier.\n",
    "\n",
    "Bonus Point #2: Search for a patient with a family name using the :contains modifier.\n",
    "\n",
    "**Searches you can try**\n",
    "\n",
    "1. Find patient records using family name parameter 'smith'\n",
    "2. Find patient records using family name parameter 'Bennelong'"
   ]
  },
  {
   "cell_type": "code",
   "execution_count": null,
   "id": "bfcfa112-6459-44c6-bff3-b7d2e64e6b56",
   "metadata": {},
   "outputs": [],
   "source": [
    "patient_1_6_1 = client.resources(\"Patient\").search(family='smith').fetch_all()"
   ]
  },
  {
   "cell_type": "code",
   "execution_count": null,
   "id": "31f54875-0f8b-4813-be79-ee4860dfa283",
   "metadata": {},
   "outputs": [],
   "source": [
    "pprint(patient_1_6_1[0].serialize())"
   ]
  },
  {
   "cell_type": "code",
   "execution_count": null,
   "id": "287e199c-608c-464d-bd33-6f7f835878cb",
   "metadata": {},
   "outputs": [],
   "source": [
    "patient_1_6_2 = client.resources(\"Patient\").search(family='Bennelong').fetch_all()"
   ]
  },
  {
   "cell_type": "code",
   "execution_count": null,
   "id": "5c1db377-63ca-4871-99ec-20c914924397",
   "metadata": {},
   "outputs": [],
   "source": [
    "pprint(patient_1_6_2[0].serialize())"
   ]
  },
  {
   "cell_type": "markdown",
   "id": "9ca70a91-53cc-4a10-9c60-6c6eb3fcee1e",
   "metadata": {},
   "source": [
    "### 1.7 search: family+gender \n",
    "**Action:** FHIR client searches the FHIR server for patients with a family name and gender\n",
    "\n",
    "**Precondition:** Patients with specified family name and gender have been created\n",
    "\n",
    "**Success Criteria:** patients displayed in interface (use browser query to confirm)\n",
    "\n",
    "**Searches you can try**\n",
    "\n",
    "1. Find patient records using combination of family name parameter 'smith' and gender parameter 'female'\n",
    "2. Find patient records using combination of family name parameter 'Wang' and gender parameter 'male'"
   ]
  },
  {
   "cell_type": "code",
   "execution_count": null,
   "id": "97ac6b67-5ebe-4ded-9da3-35c3ccf2d239",
   "metadata": {},
   "outputs": [],
   "source": [
    "patient_1_7_1 = client.resources(\"Patient\").search(family='smith', gender=\"female\").fetch_all()"
   ]
  },
  {
   "cell_type": "code",
   "execution_count": null,
   "id": "904f8249-e5e4-4fef-9b64-08affa7ed035",
   "metadata": {},
   "outputs": [],
   "source": [
    "pprint(patient_1_7_1[0].serialize())"
   ]
  },
  {
   "cell_type": "code",
   "execution_count": null,
   "id": "87348d7a-b4a3-4b40-bb6c-cf3e0c158f8a",
   "metadata": {},
   "outputs": [],
   "source": [
    "patient_1_7_2 = client.resources(\"Patient\").search(family='Wang', gender=\"male\").fetch_all()"
   ]
  },
  {
   "cell_type": "code",
   "execution_count": null,
   "id": "4b310d8d-573a-4ae3-b415-d82031f78f11",
   "metadata": {},
   "outputs": [],
   "source": [
    "pprint(patient_1_7_2[0].serialize())"
   ]
  },
  {
   "cell_type": "markdown",
   "id": "0fbcaa82-0400-4093-b5b0-189ef6442bea",
   "metadata": {},
   "source": [
    "### 1.8 search: gender+name\n",
    "**Action:** FHIR client searches the FHIR server for patients with a name that match any of the string fields in the HumanName, including family, give, prefix, suffix, suffix, and/or text and gender\n",
    "\n",
    "**Precondition:** Patients with specified name and gender have been created\n",
    "\n",
    "**Success Criteria:** patients displayed in interface (use browser query to confirm)\n",
    "\n",
    "**Searches you can try**\n",
    "\n",
    "1. Find patient records using combination of family name parameter 'smith' and gender parameter 'female'\n",
    "2. Find patient records using combination of family name parameter 'Wang' and gender parameter 'male'"
   ]
  },
  {
   "cell_type": "code",
   "execution_count": null,
   "id": "229076ce-a592-4183-b55e-0ed54286ac15",
   "metadata": {},
   "outputs": [],
   "source": [
    "patient_1_8_1 = client.resources(\"Patient\").search(gender='female', name=\"smith\").fetch_all()"
   ]
  },
  {
   "cell_type": "code",
   "execution_count": null,
   "id": "861c3873-15f3-4ccc-a3a5-71c58f3106f6",
   "metadata": {},
   "outputs": [],
   "source": [
    "pprint(patient_1_8_1[0].serialize())"
   ]
  },
  {
   "cell_type": "code",
   "execution_count": null,
   "id": "593c5aec-67ed-4da9-a812-dc00565dbeef",
   "metadata": {},
   "outputs": [],
   "source": [
    "patient_1_8_2 = client.resources(\"Patient\").search(gender='male', name=\"Wang\").fetch_all()"
   ]
  },
  {
   "cell_type": "code",
   "execution_count": null,
   "id": "51665c15-3486-44f2-9da9-f1463bb67d95",
   "metadata": {},
   "outputs": [],
   "source": [
    "pprint(patient_1_8_2[0].serialize())"
   ]
  },
  {
   "cell_type": "markdown",
   "id": "fead8d4d-0edc-4a2b-a885-924b3e0d7c57",
   "metadata": {},
   "source": [
    "### 1.9 search: name \n",
    "**Action:** FHIR client searches the FHIR server for patients with a name that match any of the string fields in the HumanName, including family, give, prefix, suffix, suffix, and/or text\n",
    "\n",
    "**Precondition:** Patients with that name have been created\n",
    "\n",
    "**Success Criteria:** patients displayed in interface. (use browser query to confirm)\n",
    "\n",
    "Bonus Point: Search for a patient with a name using the :contains modifier.\n",
    "\n",
    "**Searches you can try**\n",
    "\n",
    "1. Find patient records using name parameter 'Dan'\n",
    "2. Find patient records using name parameter 'Em'"
   ]
  },
  {
   "cell_type": "code",
   "execution_count": null,
   "id": "8082e5d4-4fed-40c2-a3b7-62e1ec995fd9",
   "metadata": {},
   "outputs": [],
   "source": [
    "patient_1_9_1 = client.resources(\"Patient\").search(name=\"Dan\").fetch_all()"
   ]
  },
  {
   "cell_type": "code",
   "execution_count": null,
   "id": "2c390206-9a70-462f-a6f5-92d1be8833d1",
   "metadata": {},
   "outputs": [],
   "source": [
    "pprint(patient_1_9_1[0].serialize())"
   ]
  },
  {
   "cell_type": "code",
   "execution_count": null,
   "id": "0c2462d5-15c4-4107-9d97-7ffe979c9fd1",
   "metadata": {},
   "outputs": [],
   "source": [
    "patient_1_9_2 = client.resources(\"Patient\").search(name=\"Em\").fetch_all()"
   ]
  },
  {
   "cell_type": "code",
   "execution_count": null,
   "id": "48e9c087-4b05-4a80-9c80-06941ecfb922",
   "metadata": {},
   "outputs": [],
   "source": [
    "pprint(patient_1_9_2[0].serialize())"
   ]
  },
  {
   "cell_type": "markdown",
   "id": "b43458fb-04e0-48fd-af7f-c94560660dca",
   "metadata": {},
   "source": [
    "## 2 Condition\n",
    "### 2.1 read\n",
    "**Action:** FHIR client retrieves the condition resource with the id\n",
    "\n",
    "**Precondition:** Condition has been created\n",
    "\n",
    "**Success Criteria:** Condition resource is displayed in interface (use browser to query FHIR server)\n",
    "\n",
    "**Searches you can try**\n",
    "\n",
    "1. Find patient record using the id parameter 'fever'\n",
    "2. Find patient record using the id parameter 'nailwound'"
   ]
  },
  {
   "cell_type": "code",
   "execution_count": null,
   "id": "02eab6f2-8cfb-46bd-8be7-449abd8a6f87",
   "metadata": {},
   "outputs": [],
   "source": [
    "condition_2_1_1 = client.reference('Condition', 'fever').to_resource()"
   ]
  },
  {
   "cell_type": "code",
   "execution_count": null,
   "id": "167f6ef1-747b-474b-95c3-aed13f6bd855",
   "metadata": {},
   "outputs": [],
   "source": [
    "pprint(condition_2_1_1.serialize())"
   ]
  },
  {
   "cell_type": "code",
   "execution_count": null,
   "id": "ca4fc5f3-97dc-469f-9a5c-7be10ccfffd7",
   "metadata": {},
   "outputs": [],
   "source": [
    "condition_2_1_2 = client.reference('Condition', 'ckd').to_resource()"
   ]
  },
  {
   "cell_type": "code",
   "execution_count": null,
   "id": "cbc83d2f-be95-440f-aeee-f431213adc0f",
   "metadata": {},
   "outputs": [],
   "source": [
    "pprint(condition_2_1_2.serialize())"
   ]
  },
  {
   "cell_type": "markdown",
   "id": "248e9dde-34d3-4f1b-bd22-6fbe53ce1dc6",
   "metadata": {},
   "source": [
    "### 2.2 search: \\_id\n",
    "**Action:** FHIR client searches the FHIR server for the conditions with a given logical id \n",
    "\n",
    "**Precondition:** Condition with that name have been created\n",
    "\n",
    "**Success Criteria:** patients displayed in interface (use browser query to confirm)\n",
    "\n",
    "**Searches you can try**\n",
    "\n",
    "1. Find patient record using the _id parameter 'fever'\n",
    "2. Find patient record using the _id parameter 'nailwound'"
   ]
  },
  {
   "cell_type": "code",
   "execution_count": null,
   "id": "184fb7d1-8796-4777-83de-181a99dce5cf",
   "metadata": {},
   "outputs": [],
   "source": [
    "condition_2_2_1 = client.resources(\"Condition\").search(_id='fever').fetch_all()"
   ]
  },
  {
   "cell_type": "code",
   "execution_count": null,
   "id": "2423fb73-f412-41c4-8bfe-581f28aa018a",
   "metadata": {},
   "outputs": [],
   "source": [
    "pprint(condition_2_2_1[0].serialize())"
   ]
  },
  {
   "cell_type": "code",
   "execution_count": null,
   "id": "b1a7d749-8451-41fe-875f-3c286d8ee89d",
   "metadata": {},
   "outputs": [],
   "source": [
    "condition_2_2_2 = client.resources(\"Condition\").search(_id='ckd').fetch_all()"
   ]
  },
  {
   "cell_type": "code",
   "execution_count": null,
   "id": "ac8622b4-1663-4b29-8779-5aa878d06f60",
   "metadata": {},
   "outputs": [],
   "source": [
    "pprint(condition_2_2_2[0].serialize())"
   ]
  },
  {
   "cell_type": "markdown",
   "id": "09677fe6-676d-4cc4-80a3-a0377a62fbef",
   "metadata": {},
   "source": [
    "### 2.3 search: patient\n",
    "**Action:** FHIR client searches the FHIR server for conditions for a patient\n",
    "\n",
    "**Precondition:** Conditions for the specified patient have been created\n",
    "\n",
    "**Success Criteria:** conditions displayed in interface (use browser query to confirm)\n",
    "\n",
    "**Searches you can try**\n",
    "\n",
    "1. Find condition record with the patient parameter 'wang-li'\n",
    "2. Find condition record with the patient parameter 'dan-harry'"
   ]
  },
  {
   "cell_type": "code",
   "execution_count": null,
   "id": "3a5a85ab-6b5a-40ed-be0b-fd59ee9f4c09",
   "metadata": {},
   "outputs": [],
   "source": [
    "condition_2_3_1 = client.resources(\"Condition\").search(patient='wang-li').fetch_all()"
   ]
  },
  {
   "cell_type": "code",
   "execution_count": null,
   "id": "5eb7536b-b934-41a7-87c3-51148b6900f5",
   "metadata": {},
   "outputs": [],
   "source": [
    "pprint(condition_2_3_1[0].serialize())"
   ]
  },
  {
   "cell_type": "code",
   "execution_count": null,
   "id": "0404f3e4-c18d-44ba-909e-e2f6ae51d3fc",
   "metadata": {},
   "outputs": [],
   "source": [
    "condition_2_3_2 = client.resources(\"Condition\").search(patient='dan-harry').fetch_all()"
   ]
  },
  {
   "cell_type": "code",
   "execution_count": null,
   "id": "0f644aa1-550e-4cbd-be60-60f1f7472e0b",
   "metadata": {},
   "outputs": [],
   "source": [
    "pprint(condition_2_3_2[0].serialize())"
   ]
  },
  {
   "cell_type": "markdown",
   "id": "a3194ccf-b821-4529-a144-15e954ea7041",
   "metadata": {},
   "source": [
    "### 2.4 search: patient+category\n",
    "**Action:** FHIR client searches the FHIR server for conditions with specified patient and category\n",
    "\n",
    "**Precondition:** Conditions with specified with specified patient and category have been created\n",
    "\n",
    "**Success Criteria:** conditions displayed in interface. (use browser query to confirm)\n",
    "\n",
    "**Searches you can try**\n",
    "\n",
    "1. Find condition records using combination of patient parameter 'smith-emma' and category parameter 'problem-list-item' \n",
    "2. Find condition records using combination of patient parameter 'wang-li' and category parameter 'http://terminology.hl7.org/CodeSystem/condition-category|encounter-diagnosis'"
   ]
  },
  {
   "cell_type": "code",
   "execution_count": null,
   "id": "6dabf7e1-717e-4551-916d-f40414febeab",
   "metadata": {},
   "outputs": [],
   "source": [
    "condition_2_4_1 = client.resources(\"Condition\").search(patient='smith-emma', category=\"problem-list-item\").fetch_all()"
   ]
  },
  {
   "cell_type": "code",
   "execution_count": null,
   "id": "3a212071-e77e-4a03-84ee-0990e32c16e2",
   "metadata": {},
   "outputs": [],
   "source": [
    "pprint(condition_2_4_1[0].serialize())"
   ]
  },
  {
   "cell_type": "code",
   "execution_count": null,
   "id": "c1ffe611-0704-4913-9c9b-f25514e8afe8",
   "metadata": {},
   "outputs": [],
   "source": [
    "category = \"http://terminology.hl7.org/CodeSystem/condition-category|encounter-diagnosis\"\n",
    "condition_2_4_2 = client.resources(\"Condition\").search(patient='wang-li', category=category).fetch_all()"
   ]
  },
  {
   "cell_type": "code",
   "execution_count": null,
   "id": "dfdc5dc7-0fcb-413f-84f1-c5b893da487d",
   "metadata": {},
   "outputs": [],
   "source": [
    "# pprint(condition_2_4_2[0].serialize()) TODO: fix this via correct data"
   ]
  },
  {
   "cell_type": "markdown",
   "id": "7aaccd8e-8fa2-4505-9370-b900eaadd564",
   "metadata": {},
   "source": [
    "### 2.5 search: patient+clinical-status\n",
    "**Action:** FHIR client searches the FHIR server for conditions with specified patient and clinical status\n",
    "\n",
    "**Precondition:** Conditions with specified with specified patient and clinical status have been created\n",
    "\n",
    "**Success Criteria:** conditions displayed in interface. (use browser query to confirm)\n",
    "\n",
    "**Searches you can try **\n",
    "\n",
    "1. Find condition records using combination of patient parameter 'smith-emma' and clinical-status parameter 'active' \n",
    "2. Find condition records using combination of patient parameter 'wang-li' and clinical-status parameter 'http://terminology.hl7.org/CodeSystem/condition-clinical|active' "
   ]
  },
  {
   "cell_type": "code",
   "execution_count": null,
   "id": "b413bbe9-402e-414f-a25e-65cad41d9b45",
   "metadata": {},
   "outputs": [],
   "source": [
    "condition_2_5_1 = client.resources(\"Condition\").search(patient='smith-emma', clinical_status=\"active\").fetch_all()"
   ]
  },
  {
   "cell_type": "code",
   "execution_count": null,
   "id": "a3a59b07-5979-4d96-b455-3944c4a6758e",
   "metadata": {},
   "outputs": [],
   "source": [
    "pprint(condition_2_5_1[0].serialize())"
   ]
  },
  {
   "cell_type": "code",
   "execution_count": null,
   "id": "b70dd00f-f088-4351-bca1-ef2d75ee33a8",
   "metadata": {},
   "outputs": [],
   "source": [
    "clinical_status = 'http://terminology.hl7.org/CodeSystem/condition-clinical|active'\n",
    "condition_2_5_2 = client.resources(\"Condition\").search(patient='wang-li', clinical_status=clinical_status).fetch_all()"
   ]
  },
  {
   "cell_type": "code",
   "execution_count": null,
   "id": "5f161ccf-daad-470a-94a1-a5b42cb24594",
   "metadata": {},
   "outputs": [],
   "source": [
    "pprint(condition_2_5_2[0].serialize())"
   ]
  },
  {
   "cell_type": "markdown",
   "id": "7790176e-db66-4e53-8acf-e9efeeebec4e",
   "metadata": {},
   "source": [
    "### 2.6 search: patient+category+clinical-status\n",
    "**Action:** FHIR client searches the FHIR server for conditions with specified patient, clinical status and category\n",
    "\n",
    "**Precondition:** Conditions with specified with specified patient , clinical status and category have been created\n",
    "\n",
    "**Success Criteria:** conditions displayed in interface. (use browser query to confirm)\n",
    "\n",
    "**Searches you can try** \n",
    "\n",
    "1. Find condition records using combination of patient parameter 'smith-emma' and category parameter 'problem-list-item' and clinical-status parameter 'active'\n",
    "2. Find condition records using combination of patient parameter 'wang-li' and category parameter 'http://terminology.hl7.org/CodeSystem/condition-category|problem-list-item' and clinical-status parameter 'http://terminology.hl7.org/CodeSystem/condition-clinical|active'"
   ]
  },
  {
   "cell_type": "code",
   "execution_count": null,
   "id": "205c75eb-e3be-4fe4-8d92-de6951a16091",
   "metadata": {},
   "outputs": [],
   "source": [
    "patient = 'smith-emma'\n",
    "categ = \"problem-list-item\"\n",
    "stat = \"active\"\n",
    "condition_2_6_1 = client.resources(\"Condition\").search(patient=patient, category=categ, clinical_status=stat).fetch_all()"
   ]
  },
  {
   "cell_type": "code",
   "execution_count": null,
   "id": "1cd7d41e-aa4b-492d-8d24-12f94daeff8f",
   "metadata": {},
   "outputs": [],
   "source": [
    "pprint(condition_2_6_1[0].serialize())"
   ]
  },
  {
   "cell_type": "code",
   "execution_count": null,
   "id": "63d63a69-b6c3-4dfd-be07-a166ac273491",
   "metadata": {},
   "outputs": [],
   "source": [
    "patient = 'wang-li'\n",
    "categ = 'http://terminology.hl7.org/CodeSystem/condition-category|problem-list-item'\n",
    "stat = 'http://terminology.hl7.org/CodeSystem/condition-clinical|active'\n",
    "condition_2_6_2 = client.resources(\"Condition\").search(patient=patient, category=categ, clinical_status=stat).fetch_all()"
   ]
  },
  {
   "cell_type": "code",
   "execution_count": null,
   "id": "e4c02e5f-2fd0-439b-bf5d-69d3bdd5efc7",
   "metadata": {},
   "outputs": [],
   "source": [
    "pprint(condition_2_6_2[0].serialize())"
   ]
  },
  {
   "cell_type": "markdown",
   "id": "376e8996-a94d-4725-ab91-632c0af905f1",
   "metadata": {},
   "source": [
    "### 2.7 search: patient+code\n",
    "**Action:** FHIR client searches the FHIR server for conditions with specified patient and condition code\n",
    "\n",
    "**Precondition:** Conditions with specified with specified patient and condition code have been created\n",
    "\n",
    "**Success Criteria:** conditions displayed in interface. (use browser query to confirm)\n",
    "\n",
    "Bonus Point #1: \n",
    "\n",
    "**Searches you can try**\n",
    "\n",
    "1. Find condition records using combination of patient parameter 'wang-li' and code parameter 'http://snomed.info/sct|394659003'\n",
    "2. Find condition records using combination of patient parameter 'wang-li' and one of the following code parameters: 'http://snomed.info/sct|283680004', 'http://snomed.info/sct|394659003', and 'http://snomed.info/sct|54329005'"
   ]
  },
  {
   "cell_type": "code",
   "execution_count": null,
   "id": "aca7b8b8-714a-4b28-b870-6b77f2b2ee7b",
   "metadata": {},
   "outputs": [],
   "source": [
    "code = 'http://snomed.info/sct|394659003'\n",
    "condition_2_7_1 = client.resources(\"Condition\").search(patient='wang-li', code=code).fetch_all()"
   ]
  },
  {
   "cell_type": "code",
   "execution_count": null,
   "id": "edd452f9-70f6-4105-a1c8-2d803da6993b",
   "metadata": {},
   "outputs": [],
   "source": [
    "pprint(condition_2_7_1[0].serialize())"
   ]
  },
  {
   "cell_type": "code",
   "execution_count": null,
   "id": "bfe109cf-e691-4e55-9a6d-477401fe0b5b",
   "metadata": {},
   "outputs": [],
   "source": [
    "code = 'http://snomed.info/sct|394659003,http://snomed.info/sct|283680004,http://snomed.info/sct|54329005'\n",
    "condition_2_7_2 = client.resources(\"Condition\").search(patient='wang-li', code=code).fetch_all()"
   ]
  },
  {
   "cell_type": "code",
   "execution_count": null,
   "id": "90f672c7-f78b-4e81-91da-07a70ce903a0",
   "metadata": {},
   "outputs": [],
   "source": [
    "pprint(condition_2_7_2[0].serialize())"
   ]
  },
  {
   "cell_type": "markdown",
   "id": "ac6d1f6d-60a0-4f4f-851c-108d5ab6d55e",
   "metadata": {},
   "source": [
    "### 2.8 search: patient+onset-date\n",
    "**Action:** FHIR client searches the FHIR server for conditions with specified patient and condition onset date\n",
    "\n",
    "**Precondition:** Conditions with specified with specified patient and condition onset date have been created\n",
    "\n",
    "**Success Criteria:** conditions displayed in interface. (use browser query to confirm)\n",
    "\n",
    "**Searches you can try** \n",
    "\n",
    "1. Find condition records for patient 'wang-li' that occurred from 01 Jan 2014 onwards:"
   ]
  },
  {
   "cell_type": "code",
   "execution_count": null,
   "id": "bf63cb33-f421-4dfd-a68c-58a5821da8cd",
   "metadata": {},
   "outputs": [],
   "source": [
    "condition_2_8_1 = client.resources(\"Condition\").search(patient='wang-li', onset_date__ge=\"01-01-2014\").fetch_all()"
   ]
  },
  {
   "cell_type": "code",
   "execution_count": null,
   "id": "8c600d0d-9bd6-4b71-a2b3-0fe5300b7873",
   "metadata": {},
   "outputs": [],
   "source": [
    "pprint(condition_2_8_1[0].serialize())"
   ]
  },
  {
   "cell_type": "markdown",
   "id": "9e139e3d-4849-463e-b613-bd23e7b1dff0",
   "metadata": {},
   "source": [
    "### 2.9 search: patient.identifier\n",
    "**Searches you can try**\n",
    "\n",
    "1. Find condition records for patient 'wang-li' that occurred from 01 Jan 2014 onwards:"
   ]
  },
  {
   "cell_type": "code",
   "execution_count": null,
   "id": "76f1f0e7-7fa2-4f07-807a-f3aee6d89bef",
   "metadata": {},
   "outputs": [],
   "source": [
    "ident = '2338189'\n",
    "date = \"01-01-2014\"\n",
    "condition_2_9_1 = client.resources(\"Condition\").search(patient__Patient__identifier=ident, onset_date__ge=date).fetch_all()"
   ]
  },
  {
   "cell_type": "code",
   "execution_count": null,
   "id": "ac4345b9-5c79-47ed-abec-5c93d7b53d85",
   "metadata": {},
   "outputs": [],
   "source": [
    "pprint(condition_2_9_1[0].serialize())"
   ]
  },
  {
   "cell_type": "markdown",
   "id": "12278e19-ec43-459d-b604-3987b606fa8a",
   "metadata": {},
   "source": [
    "## 3 AllergyIntolerance\n",
    "### 3.1 read\n",
    "**Action:** FHIR client retrieves the AllergyIntolerance resource with the Id\n",
    "\n",
    "**Precondition:** AllergyIntolerance has been created\n",
    "\n",
    "**Success Criteria:** AllergyIntolerance resource is displayed in interface (use browser to query FHIR server)\n",
    "\n",
    "**Searches you can try**\n",
    "\n",
    "1. Read AllergyIntolerance with an id 'lactose'"
   ]
  },
  {
   "cell_type": "code",
   "execution_count": null,
   "id": "3e43314c-03d4-4e93-9993-e608ba85f5c3",
   "metadata": {},
   "outputs": [],
   "source": [
    "allergy_3_1 = client.reference('AllergyIntolerance', 'lactose').to_resource()"
   ]
  },
  {
   "cell_type": "code",
   "execution_count": null,
   "id": "0c82288e-d25f-4a32-8dda-5bf86cadeb97",
   "metadata": {},
   "outputs": [],
   "source": [
    "pprint(allergy_3_1.serialize())"
   ]
  },
  {
   "cell_type": "markdown",
   "id": "a702edc4-63dc-4544-87aa-d1b246a16211",
   "metadata": {},
   "source": [
    "### 3.2 search: \\_id\n",
    "**Action:** FHIR client retrieves the AllergyIntolerance resource with a given logical id \n",
    "\n",
    "**Precondition:** AllergyIntolerance has been created\n",
    "\n",
    "**Success Criteria:** AllergyIntolerance resource is displayed in interface (use browser to query FHIR server)\n",
    "\n",
    "**Searches you can try**\n",
    "\n",
    "1. Search AllergyIntolerance using the id 'penicillin'"
   ]
  },
  {
   "cell_type": "code",
   "execution_count": null,
   "id": "a0e7ea7c-da64-4a05-8c47-ee6553aaab74",
   "metadata": {},
   "outputs": [],
   "source": [
    "allergy_3_2 = client.resources(\"AllergyIntolerance\").search(_id='penicillin').fetch_all()"
   ]
  },
  {
   "cell_type": "code",
   "execution_count": null,
   "id": "72ca7ac5-aeea-486d-83d1-73d5950e1d45",
   "metadata": {},
   "outputs": [],
   "source": [
    "pprint(allergy_3_2[0].serialize())"
   ]
  },
  {
   "cell_type": "markdown",
   "id": "ac6aebf7-6df7-4a91-838c-e2d372244e72",
   "metadata": {},
   "source": [
    "### 3.3 search: patient\n",
    "**Action:** FHIR client searches the FHIR server for AllergyIntolerance for a patient\n",
    "\n",
    "**Precondition:** AllergyIntolerances for the specified patient have been created\n",
    "\n",
    "**Success Criteria:** AllergyIntolerance displayed in interface (use browser query to confirm)\n",
    "\n",
    "**Searches you can try**\n",
    "\n",
    "1. Search using the patient id 'dan-harry'"
   ]
  },
  {
   "cell_type": "code",
   "execution_count": null,
   "id": "277ba8e2-308a-4197-b8e0-995bc6056e62",
   "metadata": {},
   "outputs": [],
   "source": [
    "allergy_3_3 = client.resources(\"AllergyIntolerance\").search(patient='dan-harry').fetch_all()"
   ]
  },
  {
   "cell_type": "code",
   "execution_count": null,
   "id": "e85f0187-61fa-4a30-9a7d-025ff5cae247",
   "metadata": {},
   "outputs": [],
   "source": [
    "pprint(allergy_3_3[0].serialize())"
   ]
  },
  {
   "cell_type": "markdown",
   "id": "96b8626e-f4ff-4102-b9f5-4be4b2509ba7",
   "metadata": {},
   "source": [
    "### 3.4 search: patient.identifier\n",
    "**Action:** FHIR client searches the FHIR server for AllergyIntolerance for a patient with\n",
    "\n",
    "**Precondition:** AllergyIntolerances for the specified patient have been created\n",
    "\n",
    "**Success Criteria:** AllergyIntolerance displayed in interface (use browser query to confirm)\n",
    "\n",
    "**Searches you can try**\n",
    "\n",
    "1. Search using the patient identifier 'NBUR9080'"
   ]
  },
  {
   "cell_type": "code",
   "execution_count": null,
   "id": "6a33e9aa-70cb-471d-94a6-51b810aef8df",
   "metadata": {},
   "outputs": [],
   "source": [
    "allergy_3_4 = client.resources(\"AllergyIntolerance\").search(patient__Patient__identifier='NBUR9080').fetch_all()"
   ]
  },
  {
   "cell_type": "code",
   "execution_count": null,
   "id": "d38369ee-0434-46d1-9741-a8f73cf3744b",
   "metadata": {},
   "outputs": [],
   "source": [
    "pprint(allergy_3_4[0].serialize())"
   ]
  },
  {
   "cell_type": "markdown",
   "id": "57dd9eef-818a-41b8-be3a-58c8e2fc7933",
   "metadata": {},
   "source": [
    "### 3.5 search: patient+clinical-status \n",
    "**Action:** FHIR client searches the FHIR server for AllergyIntolerance with specified patient and clinical status\n",
    "\n",
    "**Precondition:** AllergyIntolerances with specified with specified patient and clinical status have been created\n",
    "\n",
    "**Success Criteria:** AllergyIntolerances displayed in interface. (use browser query to confirm)\n",
    "\n",
    "**Searches you can try**\n",
    "\n",
    "1. Find AllergyIntolerance record using the patient identifier parameter 'http://ns.electronichealth.net.au/id/dva|NBUR9080' and clinical status 'active'"
   ]
  },
  {
   "cell_type": "code",
   "execution_count": null,
   "id": "d4e8f556-c992-4e74-9ea3-c2f6d0b02e9d",
   "metadata": {},
   "outputs": [],
   "source": [
    "identifier = 'http://ns.electronichealth.net.au/id/dva|NBUR9080'\n",
    "allergy_3_5 = client.resources(\"AllergyIntolerance\").search(patient__Patient__identifier=identifier, clinical_status=\"active\").fetch_all()"
   ]
  },
  {
   "cell_type": "code",
   "execution_count": null,
   "id": "67cd6c1a-e5c5-4850-ad2e-f1cefe7b7fc5",
   "metadata": {},
   "outputs": [],
   "source": [
    "pprint(allergy_3_5[0].serialize())"
   ]
  }
 ],
 "metadata": {
  "kernelspec": {
   "display_name": "Python 3 (ipykernel)",
   "language": "python",
   "name": "python3"
  },
  "language_info": {
   "codemirror_mode": {
    "name": "ipython",
    "version": 3
   },
   "file_extension": ".py",
   "mimetype": "text/x-python",
   "name": "python",
   "nbconvert_exporter": "python",
   "pygments_lexer": "ipython3",
   "version": "3.11.6"
  }
 },
 "nbformat": 4,
 "nbformat_minor": 5
}
